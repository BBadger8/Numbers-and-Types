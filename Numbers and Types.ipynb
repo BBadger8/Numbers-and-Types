{
 "cells": [
  {
   "cell_type": "code",
   "execution_count": 13,
   "id": "baa801d4-0cd7-446f-8d26-3854419e87ca",
   "metadata": {},
   "outputs": [
    {
     "name": "stdout",
     "output_type": "stream",
     "text": [
      "3600\n"
     ]
    }
   ],
   "source": [
    "min=60\n",
    "hr=60\n",
    "sec=min*hr\n",
    "print(sec)"
   ]
  },
  {
   "cell_type": "code",
   "execution_count": 5,
   "id": "1bd8cebf-3c6e-4a9b-ba0f-36ff7dcc4914",
   "metadata": {},
   "outputs": [
    {
     "name": "stdout",
     "output_type": "stream",
     "text": [
      "3600\n"
     ]
    }
   ],
   "source": [
    "seconds_per_hour=sec\n",
    "print(seconds_per_hour)"
   ]
  },
  {
   "cell_type": "code",
   "execution_count": 8,
   "id": "5bc50516-2abe-435b-bc11-f3a1e7f162d1",
   "metadata": {},
   "outputs": [
    {
     "name": "stdout",
     "output_type": "stream",
     "text": [
      "86400\n"
     ]
    }
   ],
   "source": [
    "day=seconds_per_hour*24\n",
    "print(day)"
   ]
  },
  {
   "cell_type": "code",
   "execution_count": 9,
   "id": "d6219545-ca67-4d1c-9390-61723060ed2f",
   "metadata": {},
   "outputs": [
    {
     "name": "stdout",
     "output_type": "stream",
     "text": [
      "86400\n"
     ]
    }
   ],
   "source": [
    "seconds_per_day=day\n",
    "print(seconds_per_day)"
   ]
  },
  {
   "cell_type": "code",
   "execution_count": 10,
   "id": "9faaa5c2-2ea2-4a18-9d03-0195e0548878",
   "metadata": {},
   "outputs": [
    {
     "name": "stdout",
     "output_type": "stream",
     "text": [
      "24.0\n"
     ]
    }
   ],
   "source": [
    "print(seconds_per_day/seconds_per_hour)"
   ]
  },
  {
   "cell_type": "code",
   "execution_count": 11,
   "id": "3922feb5-ea67-4ded-8177-a488a3d7d30f",
   "metadata": {},
   "outputs": [
    {
     "name": "stdout",
     "output_type": "stream",
     "text": [
      "24\n"
     ]
    }
   ],
   "source": [
    "print(seconds_per_day//seconds_per_hour)"
   ]
  },
  {
   "cell_type": "code",
   "execution_count": 12,
   "id": "fba5b136-2122-4507-b478-74df724f06b5",
   "metadata": {},
   "outputs": [
    {
     "name": "stdout",
     "output_type": "stream",
     "text": [
      "the answer of the integer division and the floating-point division does agree with eachother\n"
     ]
    }
   ],
   "source": [
    "print(\"the answer of the integer division and the floating-point division does agree with eachother\")"
   ]
  },
  {
   "cell_type": "markdown",
   "id": "61aa20c2-7c26-4ebc-a7ad-820fe85ccb84",
   "metadata": {},
   "source": []
  }
 ],
 "metadata": {
  "kernelspec": {
   "display_name": "Python 3 (ipykernel)",
   "language": "python",
   "name": "python3"
  },
  "language_info": {
   "codemirror_mode": {
    "name": "ipython",
    "version": 3
   },
   "file_extension": ".py",
   "mimetype": "text/x-python",
   "name": "python",
   "nbconvert_exporter": "python",
   "pygments_lexer": "ipython3",
   "version": "3.11.7"
  }
 },
 "nbformat": 4,
 "nbformat_minor": 5
}
